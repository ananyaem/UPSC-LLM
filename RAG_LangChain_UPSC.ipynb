{
  "cells": [
    {
      "cell_type": "markdown",
      "metadata": {
        "id": "view-in-github",
        "colab_type": "text"
      },
      "source": [
        "<a href=\"https://colab.research.google.com/github/ananyaem/UPSC-LLM/blob/main/RAG_LangChain_UPSC.ipynb\" target=\"_parent\"><img src=\"https://colab.research.google.com/assets/colab-badge.svg\" alt=\"Open In Colab\"/></a>"
      ]
    },
    {
      "cell_type": "code",
      "source": [
        "!pip3 -q install faiss-cpu pandas requests langchain langchain-cohere langchain-community"
      ],
      "metadata": {
        "id": "EkZ2yhqV707Z"
      },
      "execution_count": null,
      "outputs": []
    },
    {
      "cell_type": "code",
      "execution_count": null,
      "metadata": {
        "colab": {
          "base_uri": "https://localhost:8080/"
        },
        "id": "j_qXWp6Qdr0k",
        "outputId": "9edbf84d-4a6f-4bdb-b882-8deea6596948"
      },
      "outputs": [
        {
          "output_type": "stream",
          "name": "stdout",
          "text": [
            "--2024-05-23 12:04:21--  https://docs.google.com/spreadsheets/u/7/d/1JNgL-tDuU_R6BjvBgEzUjTJwEDTpqv3zK08KZ6Ab85Q/export?format=csv&id=1JNgL-tDuU_R6BjvBgEzUjTJwEDTpqv3zK08KZ6Ab85Q&gid=1175330818\n",
            "Resolving docs.google.com (docs.google.com)... 172.253.63.100, 172.253.63.113, 172.253.63.101, ...\n",
            "Connecting to docs.google.com (docs.google.com)|172.253.63.100|:443... connected.\n",
            "HTTP request sent, awaiting response... 307 Temporary Redirect\n",
            "Location: https://doc-08-9g-sheets.googleusercontent.com/export/54bogvaave6cua4cdnls17ksc4/i81138rrhh2cn2vo9p2e7n4ufs/1716465860000/115055468268182144634/*/1JNgL-tDuU_R6BjvBgEzUjTJwEDTpqv3zK08KZ6Ab85Q?format=csv&id=1JNgL-tDuU_R6BjvBgEzUjTJwEDTpqv3zK08KZ6Ab85Q&gid=1175330818 [following]\n",
            "Warning: wildcards not supported in HTTP.\n",
            "--2024-05-23 12:04:21--  https://doc-08-9g-sheets.googleusercontent.com/export/54bogvaave6cua4cdnls17ksc4/i81138rrhh2cn2vo9p2e7n4ufs/1716465860000/115055468268182144634/*/1JNgL-tDuU_R6BjvBgEzUjTJwEDTpqv3zK08KZ6Ab85Q?format=csv&id=1JNgL-tDuU_R6BjvBgEzUjTJwEDTpqv3zK08KZ6Ab85Q&gid=1175330818\n",
            "Resolving doc-08-9g-sheets.googleusercontent.com (doc-08-9g-sheets.googleusercontent.com)... 172.253.62.132, 2607:f8b0:4004:c07::84\n",
            "Connecting to doc-08-9g-sheets.googleusercontent.com (doc-08-9g-sheets.googleusercontent.com)|172.253.62.132|:443... connected.\n",
            "HTTP request sent, awaiting response... 200 OK\n",
            "Length: unspecified [text/csv]\n",
            "Saving to: ‘data.csv’\n",
            "\n",
            "data.csv                [ <=>                ] 434.61K  --.-KB/s    in 0.03s   \n",
            "\n",
            "2024-05-23 12:04:22 (12.9 MB/s) - ‘data.csv’ saved [445041]\n",
            "\n"
          ]
        }
      ],
      "source": [
        "!wget \"https://docs.google.com/spreadsheets/u/7/d/1JNgL-tDuU_R6BjvBgEzUjTJwEDTpqv3zK08KZ6Ab85Q/export?format=csv&id=1JNgL-tDuU_R6BjvBgEzUjTJwEDTpqv3zK08KZ6Ab85Q&gid=1175330818\" -O data.csv"
      ]
    },
    {
      "cell_type": "code",
      "execution_count": null,
      "metadata": {
        "colab": {
          "base_uri": "https://localhost:8080/"
        },
        "id": "bIhoLxMddxno",
        "outputId": "478cd8d9-85bb-4ece-b769-f5b64bbeb656"
      },
      "outputs": [
        {
          "output_type": "stream",
          "name": "stdout",
          "text": [
            "Date,Read?,Link,Chars,Title,Original,% match,1920,362,18.85%\r\n",
            "2023-12-02,Y,https://epaper.thehindu.com/ccidist-ws/th/th_delhi/issues/61803/OPS/GRKC3E4L8.1+GQ0C3F8IK.1.html,821,\"RBI, BoE agree to exchange information on CCIL\",\"RBI, BoE agree to exchange information on CCIL:\",90.1,,,\r\n",
            "2023-12-02,Y,https://epaper.thehindu.com/ccidist-ws/th/th_delhi/issues/61803/OPS/GRKC3E4KU.1+GQ0C3F8ON.1.html,1088,India offers to host 2028 climate meet,India offers to host 2028 climate meet:,89.8,,,\r\n",
            "2023-12-02,Y,https://epaper.thehindu.com/ccidist-ws/th/th_delhi/issues/61803/OPS/GRKC3E4KU.1+GQ0C3F8P1.1.html,1204,\"T.N. Governor cannot refer re-enacted Bills to President, says SC\",T.N: Governor cannot refer re-enacted Bills to President; says SC:,87.4,,,\r\n",
            "2023-12-02,Y,https://epaper.thehindu.com/ccidist-ws/th/th_delhi/issues/61803/OPS/GRKC3E4KU.1+GQ0C3F8OT.1.html,1460,GST revenues rise to â¹1.68 lakh cr. in November; fastest growth this fiscal,GST revenues rise to <1.68 lakh cr. in November; fastest growth this fiscal:,88.2,,,\r\n",
            "2023-12-02,Y,https://epaper.thehindu.com/ccidist-ws/th/th_delhi/issues/61803/OPS/GRKC3E4L8.1+GQ0C3F8J2.1.html,1610,Manufacturing PMI rebounds in Nov.,Manufacturing PMI rebounds in Nov::,86.8,,,\r\n",
            "2023-12-02,Y,https://epaper.thehindu.com/ccidist-ws/th/th_delhi/issues/61803/OPS/GRKC3E4L6.1+GQ0C3F8L2.1.html,1964,UAE announces $30 billion fund to catalyse climate investments,1 UAE announces $30-bn fund to boost climate investments:,74.4,,,\r\n",
            "2023-12-02,Y,https://epaper.thehindu.com/ccidist-ws/th/th_delhi/issues/61803/OPS/GRKC3E4L5.1+GQ0C3F8M9.1.html,2081,\"PM meets Israel President, calls for durable resolution of Palestine issue\",\"PM meets Israel President, calls for durable resolution of Palestine issue:\",89.8,,,\r\n",
            "2023-12-02,Y,https://epaper.thehindu.com/ccidist-ws/th/th_delhi/issues/61803/OPS/GRKC3E4L3.1+GQ0C3F8NH.1.html,2638,Finding funds,Finding funds:,86.5,,,\r\n",
            "2023-12-02,Y,https://epaper.thehindu.com/ccidist-ws/th/th_delhi/issues/61803/OPS/GRKC3E4L3.1+GQ0C3F8NJ.1.html,2748,Patchy expansion,Patchy expansion:,87.4,,,\r\n"
          ]
        }
      ],
      "source": [
        "!head data.csv"
      ]
    },
    {
      "cell_type": "code",
      "execution_count": null,
      "metadata": {
        "id": "nfM0A4Bkd1uj"
      },
      "outputs": [],
      "source": [
        "import pandas as pd\n",
        "import requests\n"
      ]
    },
    {
      "cell_type": "code",
      "execution_count": null,
      "metadata": {
        "id": "OMbwZqLnd3Ry"
      },
      "outputs": [],
      "source": [
        "df = pd.read_csv(\"data.csv\")"
      ]
    },
    {
      "cell_type": "code",
      "execution_count": null,
      "metadata": {
        "colab": {
          "base_uri": "https://localhost:8080/",
          "height": 310
        },
        "id": "iT1YICHWd43Z",
        "outputId": "bb4efe0a-a0dc-4b05-b174-4ecc8cbfacb0"
      },
      "outputs": [
        {
          "output_type": "execute_result",
          "data": {
            "text/plain": [
              "         Date Read?                                               Link  Chars  \\\n",
              "0  2023-12-02     Y  https://epaper.thehindu.com/ccidist-ws/th/th_d...    821   \n",
              "1  2023-12-02     Y  https://epaper.thehindu.com/ccidist-ws/th/th_d...   1088   \n",
              "2  2023-12-02     Y  https://epaper.thehindu.com/ccidist-ws/th/th_d...   1204   \n",
              "3  2023-12-02     Y  https://epaper.thehindu.com/ccidist-ws/th/th_d...   1460   \n",
              "4  2023-12-02     Y  https://epaper.thehindu.com/ccidist-ws/th/th_d...   1610   \n",
              "\n",
              "                                               Title  \\\n",
              "0     RBI, BoE agree to exchange information on CCIL   \n",
              "1             India offers to host 2028 climate meet   \n",
              "2  T.N. Governor cannot refer re-enacted Bills to...   \n",
              "3  GST revenues rise to â¹1.68 lakh cr. in Novem...   \n",
              "4                 Manufacturing PMI rebounds in Nov.   \n",
              "\n",
              "                                            Original  % match  1920  362  \\\n",
              "0    RBI, BoE agree to exchange information on CCIL:     90.1   NaN  NaN   \n",
              "1            India offers to host 2028 climate meet:     89.8   NaN  NaN   \n",
              "2  T.N: Governor cannot refer re-enacted Bills to...     87.4   NaN  NaN   \n",
              "3  GST revenues rise to <1.68 lakh cr. in Novembe...     88.2   NaN  NaN   \n",
              "4                Manufacturing PMI rebounds in Nov::     86.8   NaN  NaN   \n",
              "\n",
              "   18.85%  \n",
              "0     NaN  \n",
              "1     NaN  \n",
              "2     NaN  \n",
              "3     NaN  \n",
              "4     NaN  "
            ],
            "text/html": [
              "\n",
              "  <div id=\"df-5c5c641c-a310-40f7-9100-1383f78222e9\" class=\"colab-df-container\">\n",
              "    <div>\n",
              "<style scoped>\n",
              "    .dataframe tbody tr th:only-of-type {\n",
              "        vertical-align: middle;\n",
              "    }\n",
              "\n",
              "    .dataframe tbody tr th {\n",
              "        vertical-align: top;\n",
              "    }\n",
              "\n",
              "    .dataframe thead th {\n",
              "        text-align: right;\n",
              "    }\n",
              "</style>\n",
              "<table border=\"1\" class=\"dataframe\">\n",
              "  <thead>\n",
              "    <tr style=\"text-align: right;\">\n",
              "      <th></th>\n",
              "      <th>Date</th>\n",
              "      <th>Read?</th>\n",
              "      <th>Link</th>\n",
              "      <th>Chars</th>\n",
              "      <th>Title</th>\n",
              "      <th>Original</th>\n",
              "      <th>% match</th>\n",
              "      <th>1920</th>\n",
              "      <th>362</th>\n",
              "      <th>18.85%</th>\n",
              "    </tr>\n",
              "  </thead>\n",
              "  <tbody>\n",
              "    <tr>\n",
              "      <th>0</th>\n",
              "      <td>2023-12-02</td>\n",
              "      <td>Y</td>\n",
              "      <td>https://epaper.thehindu.com/ccidist-ws/th/th_d...</td>\n",
              "      <td>821</td>\n",
              "      <td>RBI, BoE agree to exchange information on CCIL</td>\n",
              "      <td>RBI, BoE agree to exchange information on CCIL:</td>\n",
              "      <td>90.1</td>\n",
              "      <td>NaN</td>\n",
              "      <td>NaN</td>\n",
              "      <td>NaN</td>\n",
              "    </tr>\n",
              "    <tr>\n",
              "      <th>1</th>\n",
              "      <td>2023-12-02</td>\n",
              "      <td>Y</td>\n",
              "      <td>https://epaper.thehindu.com/ccidist-ws/th/th_d...</td>\n",
              "      <td>1088</td>\n",
              "      <td>India offers to host 2028 climate meet</td>\n",
              "      <td>India offers to host 2028 climate meet:</td>\n",
              "      <td>89.8</td>\n",
              "      <td>NaN</td>\n",
              "      <td>NaN</td>\n",
              "      <td>NaN</td>\n",
              "    </tr>\n",
              "    <tr>\n",
              "      <th>2</th>\n",
              "      <td>2023-12-02</td>\n",
              "      <td>Y</td>\n",
              "      <td>https://epaper.thehindu.com/ccidist-ws/th/th_d...</td>\n",
              "      <td>1204</td>\n",
              "      <td>T.N. Governor cannot refer re-enacted Bills to...</td>\n",
              "      <td>T.N: Governor cannot refer re-enacted Bills to...</td>\n",
              "      <td>87.4</td>\n",
              "      <td>NaN</td>\n",
              "      <td>NaN</td>\n",
              "      <td>NaN</td>\n",
              "    </tr>\n",
              "    <tr>\n",
              "      <th>3</th>\n",
              "      <td>2023-12-02</td>\n",
              "      <td>Y</td>\n",
              "      <td>https://epaper.thehindu.com/ccidist-ws/th/th_d...</td>\n",
              "      <td>1460</td>\n",
              "      <td>GST revenues rise to â¹1.68 lakh cr. in Novem...</td>\n",
              "      <td>GST revenues rise to &lt;1.68 lakh cr. in Novembe...</td>\n",
              "      <td>88.2</td>\n",
              "      <td>NaN</td>\n",
              "      <td>NaN</td>\n",
              "      <td>NaN</td>\n",
              "    </tr>\n",
              "    <tr>\n",
              "      <th>4</th>\n",
              "      <td>2023-12-02</td>\n",
              "      <td>Y</td>\n",
              "      <td>https://epaper.thehindu.com/ccidist-ws/th/th_d...</td>\n",
              "      <td>1610</td>\n",
              "      <td>Manufacturing PMI rebounds in Nov.</td>\n",
              "      <td>Manufacturing PMI rebounds in Nov::</td>\n",
              "      <td>86.8</td>\n",
              "      <td>NaN</td>\n",
              "      <td>NaN</td>\n",
              "      <td>NaN</td>\n",
              "    </tr>\n",
              "  </tbody>\n",
              "</table>\n",
              "</div>\n",
              "    <div class=\"colab-df-buttons\">\n",
              "\n",
              "  <div class=\"colab-df-container\">\n",
              "    <button class=\"colab-df-convert\" onclick=\"convertToInteractive('df-5c5c641c-a310-40f7-9100-1383f78222e9')\"\n",
              "            title=\"Convert this dataframe to an interactive table.\"\n",
              "            style=\"display:none;\">\n",
              "\n",
              "  <svg xmlns=\"http://www.w3.org/2000/svg\" height=\"24px\" viewBox=\"0 -960 960 960\">\n",
              "    <path d=\"M120-120v-720h720v720H120Zm60-500h600v-160H180v160Zm220 220h160v-160H400v160Zm0 220h160v-160H400v160ZM180-400h160v-160H180v160Zm440 0h160v-160H620v160ZM180-180h160v-160H180v160Zm440 0h160v-160H620v160Z\"/>\n",
              "  </svg>\n",
              "    </button>\n",
              "\n",
              "  <style>\n",
              "    .colab-df-container {\n",
              "      display:flex;\n",
              "      gap: 12px;\n",
              "    }\n",
              "\n",
              "    .colab-df-convert {\n",
              "      background-color: #E8F0FE;\n",
              "      border: none;\n",
              "      border-radius: 50%;\n",
              "      cursor: pointer;\n",
              "      display: none;\n",
              "      fill: #1967D2;\n",
              "      height: 32px;\n",
              "      padding: 0 0 0 0;\n",
              "      width: 32px;\n",
              "    }\n",
              "\n",
              "    .colab-df-convert:hover {\n",
              "      background-color: #E2EBFA;\n",
              "      box-shadow: 0px 1px 2px rgba(60, 64, 67, 0.3), 0px 1px 3px 1px rgba(60, 64, 67, 0.15);\n",
              "      fill: #174EA6;\n",
              "    }\n",
              "\n",
              "    .colab-df-buttons div {\n",
              "      margin-bottom: 4px;\n",
              "    }\n",
              "\n",
              "    [theme=dark] .colab-df-convert {\n",
              "      background-color: #3B4455;\n",
              "      fill: #D2E3FC;\n",
              "    }\n",
              "\n",
              "    [theme=dark] .colab-df-convert:hover {\n",
              "      background-color: #434B5C;\n",
              "      box-shadow: 0px 1px 3px 1px rgba(0, 0, 0, 0.15);\n",
              "      filter: drop-shadow(0px 1px 2px rgba(0, 0, 0, 0.3));\n",
              "      fill: #FFFFFF;\n",
              "    }\n",
              "  </style>\n",
              "\n",
              "    <script>\n",
              "      const buttonEl =\n",
              "        document.querySelector('#df-5c5c641c-a310-40f7-9100-1383f78222e9 button.colab-df-convert');\n",
              "      buttonEl.style.display =\n",
              "        google.colab.kernel.accessAllowed ? 'block' : 'none';\n",
              "\n",
              "      async function convertToInteractive(key) {\n",
              "        const element = document.querySelector('#df-5c5c641c-a310-40f7-9100-1383f78222e9');\n",
              "        const dataTable =\n",
              "          await google.colab.kernel.invokeFunction('convertToInteractive',\n",
              "                                                    [key], {});\n",
              "        if (!dataTable) return;\n",
              "\n",
              "        const docLinkHtml = 'Like what you see? Visit the ' +\n",
              "          '<a target=\"_blank\" href=https://colab.research.google.com/notebooks/data_table.ipynb>data table notebook</a>'\n",
              "          + ' to learn more about interactive tables.';\n",
              "        element.innerHTML = '';\n",
              "        dataTable['output_type'] = 'display_data';\n",
              "        await google.colab.output.renderOutput(dataTable, element);\n",
              "        const docLink = document.createElement('div');\n",
              "        docLink.innerHTML = docLinkHtml;\n",
              "        element.appendChild(docLink);\n",
              "      }\n",
              "    </script>\n",
              "  </div>\n",
              "\n",
              "\n",
              "<div id=\"df-48db343c-d133-49cb-94b2-eabfa8ebd10e\">\n",
              "  <button class=\"colab-df-quickchart\" onclick=\"quickchart('df-48db343c-d133-49cb-94b2-eabfa8ebd10e')\"\n",
              "            title=\"Suggest charts\"\n",
              "            style=\"display:none;\">\n",
              "\n",
              "<svg xmlns=\"http://www.w3.org/2000/svg\" height=\"24px\"viewBox=\"0 0 24 24\"\n",
              "     width=\"24px\">\n",
              "    <g>\n",
              "        <path d=\"M19 3H5c-1.1 0-2 .9-2 2v14c0 1.1.9 2 2 2h14c1.1 0 2-.9 2-2V5c0-1.1-.9-2-2-2zM9 17H7v-7h2v7zm4 0h-2V7h2v10zm4 0h-2v-4h2v4z\"/>\n",
              "    </g>\n",
              "</svg>\n",
              "  </button>\n",
              "\n",
              "<style>\n",
              "  .colab-df-quickchart {\n",
              "      --bg-color: #E8F0FE;\n",
              "      --fill-color: #1967D2;\n",
              "      --hover-bg-color: #E2EBFA;\n",
              "      --hover-fill-color: #174EA6;\n",
              "      --disabled-fill-color: #AAA;\n",
              "      --disabled-bg-color: #DDD;\n",
              "  }\n",
              "\n",
              "  [theme=dark] .colab-df-quickchart {\n",
              "      --bg-color: #3B4455;\n",
              "      --fill-color: #D2E3FC;\n",
              "      --hover-bg-color: #434B5C;\n",
              "      --hover-fill-color: #FFFFFF;\n",
              "      --disabled-bg-color: #3B4455;\n",
              "      --disabled-fill-color: #666;\n",
              "  }\n",
              "\n",
              "  .colab-df-quickchart {\n",
              "    background-color: var(--bg-color);\n",
              "    border: none;\n",
              "    border-radius: 50%;\n",
              "    cursor: pointer;\n",
              "    display: none;\n",
              "    fill: var(--fill-color);\n",
              "    height: 32px;\n",
              "    padding: 0;\n",
              "    width: 32px;\n",
              "  }\n",
              "\n",
              "  .colab-df-quickchart:hover {\n",
              "    background-color: var(--hover-bg-color);\n",
              "    box-shadow: 0 1px 2px rgba(60, 64, 67, 0.3), 0 1px 3px 1px rgba(60, 64, 67, 0.15);\n",
              "    fill: var(--button-hover-fill-color);\n",
              "  }\n",
              "\n",
              "  .colab-df-quickchart-complete:disabled,\n",
              "  .colab-df-quickchart-complete:disabled:hover {\n",
              "    background-color: var(--disabled-bg-color);\n",
              "    fill: var(--disabled-fill-color);\n",
              "    box-shadow: none;\n",
              "  }\n",
              "\n",
              "  .colab-df-spinner {\n",
              "    border: 2px solid var(--fill-color);\n",
              "    border-color: transparent;\n",
              "    border-bottom-color: var(--fill-color);\n",
              "    animation:\n",
              "      spin 1s steps(1) infinite;\n",
              "  }\n",
              "\n",
              "  @keyframes spin {\n",
              "    0% {\n",
              "      border-color: transparent;\n",
              "      border-bottom-color: var(--fill-color);\n",
              "      border-left-color: var(--fill-color);\n",
              "    }\n",
              "    20% {\n",
              "      border-color: transparent;\n",
              "      border-left-color: var(--fill-color);\n",
              "      border-top-color: var(--fill-color);\n",
              "    }\n",
              "    30% {\n",
              "      border-color: transparent;\n",
              "      border-left-color: var(--fill-color);\n",
              "      border-top-color: var(--fill-color);\n",
              "      border-right-color: var(--fill-color);\n",
              "    }\n",
              "    40% {\n",
              "      border-color: transparent;\n",
              "      border-right-color: var(--fill-color);\n",
              "      border-top-color: var(--fill-color);\n",
              "    }\n",
              "    60% {\n",
              "      border-color: transparent;\n",
              "      border-right-color: var(--fill-color);\n",
              "    }\n",
              "    80% {\n",
              "      border-color: transparent;\n",
              "      border-right-color: var(--fill-color);\n",
              "      border-bottom-color: var(--fill-color);\n",
              "    }\n",
              "    90% {\n",
              "      border-color: transparent;\n",
              "      border-bottom-color: var(--fill-color);\n",
              "    }\n",
              "  }\n",
              "</style>\n",
              "\n",
              "  <script>\n",
              "    async function quickchart(key) {\n",
              "      const quickchartButtonEl =\n",
              "        document.querySelector('#' + key + ' button');\n",
              "      quickchartButtonEl.disabled = true;  // To prevent multiple clicks.\n",
              "      quickchartButtonEl.classList.add('colab-df-spinner');\n",
              "      try {\n",
              "        const charts = await google.colab.kernel.invokeFunction(\n",
              "            'suggestCharts', [key], {});\n",
              "      } catch (error) {\n",
              "        console.error('Error during call to suggestCharts:', error);\n",
              "      }\n",
              "      quickchartButtonEl.classList.remove('colab-df-spinner');\n",
              "      quickchartButtonEl.classList.add('colab-df-quickchart-complete');\n",
              "    }\n",
              "    (() => {\n",
              "      let quickchartButtonEl =\n",
              "        document.querySelector('#df-48db343c-d133-49cb-94b2-eabfa8ebd10e button');\n",
              "      quickchartButtonEl.style.display =\n",
              "        google.colab.kernel.accessAllowed ? 'block' : 'none';\n",
              "    })();\n",
              "  </script>\n",
              "</div>\n",
              "\n",
              "    </div>\n",
              "  </div>\n"
            ],
            "application/vnd.google.colaboratory.intrinsic+json": {
              "type": "dataframe",
              "variable_name": "df",
              "summary": "{\n  \"name\": \"df\",\n  \"rows\": 1920,\n  \"fields\": [\n    {\n      \"column\": \"Date\",\n      \"properties\": {\n        \"dtype\": \"object\",\n        \"num_unique_values\": 217,\n        \"samples\": [\n          \"2023-05-01\",\n          \"2023-04-22\",\n          \"2023-07-11\"\n        ],\n        \"semantic_type\": \"\",\n        \"description\": \"\"\n      }\n    },\n    {\n      \"column\": \"Read?\",\n      \"properties\": {\n        \"dtype\": \"category\",\n        \"num_unique_values\": 1,\n        \"samples\": [\n          \"Y\"\n        ],\n        \"semantic_type\": \"\",\n        \"description\": \"\"\n      }\n    },\n    {\n      \"column\": \"Link\",\n      \"properties\": {\n        \"dtype\": \"string\",\n        \"num_unique_values\": 1914,\n        \"samples\": [\n          \"https://epaper.thehindu.com/ccidist-ws/th/th_delhi/issues/44702/OPS/GTABH4T0D.1+G53BH55V0.1.html\"\n        ],\n        \"semantic_type\": \"\",\n        \"description\": \"\"\n      }\n    },\n    {\n      \"column\": \"Chars\",\n      \"properties\": {\n        \"dtype\": \"number\",\n        \"std\": 2086,\n        \"min\": 206,\n        \"max\": 11237,\n        \"num_unique_values\": 1615,\n        \"samples\": [\n          2783\n        ],\n        \"semantic_type\": \"\",\n        \"description\": \"\"\n      }\n    },\n    {\n      \"column\": \"Title\",\n      \"properties\": {\n        \"dtype\": \"string\",\n        \"num_unique_values\": 1913,\n        \"samples\": [\n          \"Captive-bred vultures take wing in forest expanses\"\n        ],\n        \"semantic_type\": \"\",\n        \"description\": \"\"\n      }\n    },\n    {\n      \"column\": \"Original\",\n      \"properties\": {\n        \"dtype\": \"string\",\n        \"num_unique_values\": 1917,\n        \"samples\": [\n          \"Chandrayaan-3 lander all set for touchdown today:\"\n        ],\n        \"semantic_type\": \"\",\n        \"description\": \"\"\n      }\n    },\n    {\n      \"column\": \"% match\",\n      \"properties\": {\n        \"dtype\": \"number\",\n        \"std\": 7.383589491668901,\n        \"min\": 43.4,\n        \"max\": 91.9,\n        \"num_unique_values\": 246,\n        \"samples\": [\n          86.2\n        ],\n        \"semantic_type\": \"\",\n        \"description\": \"\"\n      }\n    },\n    {\n      \"column\": \"1920\",\n      \"properties\": {\n        \"dtype\": \"number\",\n        \"std\": null,\n        \"min\": null,\n        \"max\": null,\n        \"num_unique_values\": 0,\n        \"samples\": [],\n        \"semantic_type\": \"\",\n        \"description\": \"\"\n      }\n    },\n    {\n      \"column\": \"362\",\n      \"properties\": {\n        \"dtype\": \"number\",\n        \"std\": null,\n        \"min\": null,\n        \"max\": null,\n        \"num_unique_values\": 0,\n        \"samples\": [],\n        \"semantic_type\": \"\",\n        \"description\": \"\"\n      }\n    },\n    {\n      \"column\": \"18.85%\",\n      \"properties\": {\n        \"dtype\": \"number\",\n        \"std\": null,\n        \"min\": null,\n        \"max\": null,\n        \"num_unique_values\": 0,\n        \"samples\": [],\n        \"semantic_type\": \"\",\n        \"description\": \"\"\n      }\n    }\n  ]\n}"
            }
          },
          "metadata": {},
          "execution_count": 6
        }
      ],
      "source": [
        "df.head()"
      ]
    },
    {
      "cell_type": "code",
      "execution_count": null,
      "metadata": {
        "colab": {
          "base_uri": "https://localhost:8080/"
        },
        "id": "gtsSGVLpd6Uh",
        "outputId": "98b3347a-4316-4cc3-b41d-1b1c0923a594"
      },
      "outputs": [
        {
          "output_type": "execute_result",
          "data": {
            "text/plain": [
              "1920"
            ]
          },
          "metadata": {},
          "execution_count": 7
        }
      ],
      "source": [
        "links = df['Link'].dropna().tolist()\n",
        "len(links)"
      ]
    },
    {
      "cell_type": "code",
      "source": [
        "from datetime import datetime"
      ],
      "metadata": {
        "id": "MM-4R0MEDnO-"
      },
      "execution_count": null,
      "outputs": []
    },
    {
      "cell_type": "code",
      "source": [
        "!pip3  install --upgrade --quiet  nest_asyncio\n",
        "\n",
        "# fixes a bug with asyncio and jupyter\n",
        "import nest_asyncio\n",
        "\n",
        "nest_asyncio.apply()"
      ],
      "metadata": {
        "id": "qMos031pFk9Z"
      },
      "execution_count": null,
      "outputs": []
    },
    {
      "cell_type": "code",
      "source": [
        "from langchain_community.document_loaders import WebBaseLoader\n",
        "loader = WebBaseLoader(links,requests_per_second=100)\n",
        "a= datetime.now()\n",
        "data = loader.aload()\n",
        "b= datetime.now()\n",
        "print(b-a)"
      ],
      "metadata": {
        "colab": {
          "base_uri": "https://localhost:8080/"
        },
        "id": "B6cFf9bgEna9",
        "outputId": "ca6951d6-4d3a-4c69-e106-c47502908e2d"
      },
      "execution_count": null,
      "outputs": [
        {
          "output_type": "stream",
          "name": "stderr",
          "text": [
            "Fetching pages: 100%|##########| 1920/1920 [00:31<00:00, 60.45it/s]\n"
          ]
        },
        {
          "output_type": "stream",
          "name": "stdout",
          "text": [
            "0:00:38.468545\n"
          ]
        }
      ]
    },
    {
      "cell_type": "code",
      "source": [
        "COHERE_API_KEY= \"GRX6APWCBku4np94O13i5CHrODC6vYcFDu7uhFdF\""
      ],
      "metadata": {
        "id": "tLKzA0VX0XGY"
      },
      "execution_count": null,
      "outputs": []
    },
    {
      "cell_type": "code",
      "source": [
        "from langchain_cohere import ChatCohere\n",
        "\n",
        "llm = ChatCohere(cohere_api_key=COHERE_API_KEY)"
      ],
      "metadata": {
        "id": "6lMVHbRa7U1m"
      },
      "execution_count": null,
      "outputs": []
    },
    {
      "cell_type": "code",
      "source": [
        "llm.invoke(\"hello anu?\")"
      ],
      "metadata": {
        "colab": {
          "base_uri": "https://localhost:8080/"
        },
        "id": "t5M9plEx7gdC",
        "outputId": "3a9a310c-1b67-42b9-db48-bf2f2c71f631"
      },
      "execution_count": null,
      "outputs": [
        {
          "output_type": "execute_result",
          "data": {
            "text/plain": [
              "AIMessage(content='Hello! How can I help you today?', additional_kwargs={'documents': None, 'citations': None, 'search_results': None, 'search_queries': None, 'is_search_required': None, 'generation_id': 'cd60ea64-87c1-4fe5-ab0a-9ff3d2c8943e', 'token_count': {'input_tokens': 70, 'output_tokens': 9}}, response_metadata={'documents': None, 'citations': None, 'search_results': None, 'search_queries': None, 'is_search_required': None, 'generation_id': 'cd60ea64-87c1-4fe5-ab0a-9ff3d2c8943e', 'token_count': {'input_tokens': 70, 'output_tokens': 9}}, id='run-9107168b-8a04-4f3d-b04e-16cb082fb71d-0')"
            ]
          },
          "metadata": {},
          "execution_count": 13
        }
      ]
    },
    {
      "cell_type": "code",
      "source": [
        "from langchain_cohere.embeddings import CohereEmbeddings\n",
        "\n",
        "embeddings = CohereEmbeddings(cohere_api_key=COHERE_API_KEY)"
      ],
      "metadata": {
        "id": "6DhkUUsO7kq2"
      },
      "execution_count": null,
      "outputs": []
    },
    {
      "cell_type": "code",
      "source": [
        "from langchain_community.vectorstores import FAISS\n",
        "vector = FAISS.from_documents(data, embeddings)"
      ],
      "metadata": {
        "id": "dBqbfKMj8KaI"
      },
      "execution_count": null,
      "outputs": []
    },
    {
      "cell_type": "code",
      "source": [
        "from langchain_core.prompts import ChatPromptTemplate"
      ],
      "metadata": {
        "id": "pUJYxgAc877H"
      },
      "execution_count": null,
      "outputs": []
    },
    {
      "cell_type": "code",
      "source": [
        "from langchain.chains.combine_documents import create_stuff_documents_chain\n",
        "\n",
        "prompt = ChatPromptTemplate.from_template(\"\"\"Answer the following question based only on the provided context:\n",
        "\n",
        "<context>\n",
        "{context}\n",
        "</context>\n",
        "\n",
        "Question: {input}\"\"\")\n",
        "\n",
        "document_chain = create_stuff_documents_chain(llm, prompt)"
      ],
      "metadata": {
        "id": "BKi9tA-G8M0Z"
      },
      "execution_count": null,
      "outputs": []
    },
    {
      "cell_type": "code",
      "source": [
        "from langchain.chains import create_retrieval_chain\n",
        "\n",
        "retriever = vector.as_retriever()\n",
        "retrieval_chain = create_retrieval_chain(retriever, document_chain)"
      ],
      "metadata": {
        "id": "rhRJnu9t8-a8"
      },
      "execution_count": null,
      "outputs": []
    },
    {
      "cell_type": "code",
      "source": [
        "response = retrieval_chain.invoke({\"input\": \"\"\"\n",
        "\n",
        "Meira Paibis, a powerful civil society activists recently seen in the news are from which of the following Indian state?\n",
        "\n",
        "\tA.\n",
        "Kerala\n",
        "\n",
        "\tB.\n",
        "Gujarat\n",
        "\n",
        "\tC.\n",
        "Arunachal Pradesh\n",
        "\n",
        "\tD.\n",
        "Manipur\n",
        "\n",
        "\n",
        "\"\"\"})\n",
        "print(response[\"answer\"])"
      ],
      "metadata": {
        "colab": {
          "base_uri": "https://localhost:8080/"
        },
        "id": "MpckqjeM9Inf",
        "outputId": "54e7c4e8-c546-4a89-c106-a88e4bdb7d56"
      },
      "execution_count": null,
      "outputs": [
        {
          "output_type": "stream",
          "name": "stdout",
          "text": [
            "D. Manipur\n"
          ]
        }
      ]
    },
    {
      "cell_type": "code",
      "source": [
        "vector.save_local(\"faiss_index\")\n",
        "new_db = FAISS.load_local(\"faiss_index\", embeddings,allow_dangerous_deserialization=True)"
      ],
      "metadata": {
        "id": "EsnSRlyc9Kfz"
      },
      "execution_count": null,
      "outputs": []
    },
    {
      "cell_type": "code",
      "source": [
        "from langchain_core.pydantic_v1 import BaseModel, Field, conlist, validator\n",
        "\n",
        "\n",
        "class Answer(BaseModel):\n",
        "  options: conlist(str, min_items=1, max_items=4) = Field(description=\"The correct options from (A/B/C/D). Some questions may have multiple correct options.\")\n",
        "\n",
        "  @validator('options', each_item=True)\n",
        "  def check_options(cls, v):\n",
        "    if len(set(v)) != len(v):\n",
        "      raise ValueError(\"Options should be unique\")\n",
        "    if v not in {\"A\", \"B\", \"C\", \"D\"}:\n",
        "      raise ValueError(\"Each item must be one of 'A', 'B', 'C', or 'D'\")\n",
        "    return v"
      ],
      "metadata": {
        "id": "jKHfgPy3JgJZ"
      },
      "execution_count": null,
      "outputs": []
    },
    {
      "cell_type": "code",
      "source": [
        "from langchain_core.runnables import RunnableLambda, RunnablePassthrough\n",
        "\n",
        "def inspect(stage):\n",
        "  def inspector(state):\n",
        "    \"\"\"Print the state passed between Runnables in a langchain and pass it on\"\"\"\n",
        "    print(\"Stage is\", stage)\n",
        "    print(\"State is\", state)\n",
        "    return state\n",
        "  return inspector\n",
        "\n",
        "def get_context(state):\n",
        "  meta = []\n",
        "  for doc in state['context']:\n",
        "    meta.append(doc.metadata)\n",
        "    print(doc.metadata)\n",
        "  state['meta'] = meta\n",
        "  return state\n",
        "\n",
        "chain = (\n",
        "    {\"context\": retriever, \"input\": RunnablePassthrough()}\n",
        "    | RunnableLambda(get_context)\n",
        "    | prompt\n",
        "    | llm.with_structured_output(Answer)\n",
        ")"
      ],
      "metadata": {
        "id": "TlOBw_AwOQON"
      },
      "execution_count": null,
      "outputs": []
    },
    {
      "cell_type": "code",
      "source": [
        "x = chain.invoke(\"\"\"\n",
        "The Nari Shakti Vandan Adhiniyam, 2023,\n",
        "that provides for33% women reservation of\n",
        "seats in the Lok Sabha and State Legislative\n",
        "Assemblies, is based on the principle of:\n",
        "(a) equality of opportunity\n",
        "(b) equality before law\n",
        "(c) affirmative action\n",
        "(d) equal rights\n",
        "\"\"\")\n",
        "print(x.options)"
      ],
      "metadata": {
        "colab": {
          "base_uri": "https://localhost:8080/"
        },
        "id": "yvGcU4hlP3ZH",
        "outputId": "9c193248-d1fe-4ac5-ea90-d7d454f4345c"
      },
      "execution_count": null,
      "outputs": [
        {
          "output_type": "stream",
          "name": "stdout",
          "text": [
            "{'source': 'https://epaper.thehindu.com/ccidist-ws/th/th_delhi/issues/52554/OPS/G3FBPBCPP.1+GVLBPBGBS.1.html', 'title': 'Legislating change', 'language': 'No language found.'}\n",
            "{'source': 'https://epaper.thehindu.com/ccidist-ws/th/th_delhi/issues/53484/OPS/GQ1BQ9NIP.1+GSVBQBG1O.1.html', 'title': 'From women’s reservation to gender equality', 'language': 'No language found.'}\n",
            "{'source': 'https://epaper.thehindu.com/ccidist-ws/th/th_delhi/issues/55332/OPS/GT9BS7FMQ.1+GDHBS9L6S.1.html', 'title': 'Women’s quota — rhetoric and reality', 'language': 'No language found.'}\n",
            "{'source': 'https://epaper.thehindu.com/ccidist-ws/th/th_delhi/issues/59139/OPS/GFGC0DGIP.1+GGUC0DI4T.1.html', 'title': 'Nagaland nod for 33% quota for women in urban local bodies', 'language': 'No language found.'}\n",
            "['C']\n"
          ]
        }
      ]
    },
    {
      "cell_type": "code",
      "source": [],
      "metadata": {
        "id": "LyUhjgUsZ6kz"
      },
      "execution_count": null,
      "outputs": []
    }
  ],
  "metadata": {
    "colab": {
      "provenance": [],
      "authorship_tag": "ABX9TyPlXaX7eyq/+dn5neUatKLS",
      "include_colab_link": true
    },
    "kernelspec": {
      "display_name": "Python 3",
      "name": "python3"
    },
    "language_info": {
      "name": "python"
    }
  },
  "nbformat": 4,
  "nbformat_minor": 0
}